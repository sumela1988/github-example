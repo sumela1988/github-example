#this is the notebook version
import pandas as pd
import numpy as np
#New print
print("Hello Capstone Project Course!")
